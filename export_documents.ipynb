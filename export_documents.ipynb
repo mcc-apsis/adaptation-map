{
 "cells": [
  {
   "cell_type": "code",
   "execution_count": 1,
   "metadata": {},
   "outputs": [],
   "source": [
    "import matplotlib.pyplot as plt\n",
    "import numpy as np\n",
    "import pandas as pd\n",
    "import sys, os, django\n",
    "\n",
    "sys.path.append('/home/galm/software/django/tmv/BasicBrowser/')\n",
    "os.environ.setdefault(\"DJANGO_SETTINGS_MODULE\", \"BasicBrowser.settings\")\n",
    "django.setup()\n",
    "\n",
    "from scoping.models import *\n",
    "from tmv_app.models import *"
   ]
  },
  {
   "cell_type": "code",
   "execution_count": 2,
   "metadata": {},
   "outputs": [
    {
     "data": {
      "text/plain": [
       "44881"
      ]
     },
     "execution_count": 2,
     "metadata": {},
     "output_type": "execute_result"
    }
   ],
   "source": [
    "q = Query.objects.get(pk=7979)\n",
    "\n",
    "docs = q.doc_set.all()\n",
    "\n",
    "docs.count()"
   ]
  },
  {
   "cell_type": "code",
   "execution_count": 8,
   "metadata": {},
   "outputs": [
    {
     "data": {
      "text/plain": [
       "['Education & Educational Research']"
      ]
     },
     "execution_count": 8,
     "metadata": {},
     "output_type": "execute_result"
    }
   ],
   "source": [
    "d.wosarticle.wc"
   ]
  },
  {
   "cell_type": "code",
   "execution_count": 9,
   "metadata": {},
   "outputs": [
    {
     "data": {
      "text/html": [
       "<div>\n",
       "<style scoped>\n",
       "    .dataframe tbody tr th:only-of-type {\n",
       "        vertical-align: middle;\n",
       "    }\n",
       "\n",
       "    .dataframe tbody tr th {\n",
       "        vertical-align: top;\n",
       "    }\n",
       "\n",
       "    .dataframe thead th {\n",
       "        text-align: right;\n",
       "    }\n",
       "</style>\n",
       "<table border=\"1\" class=\"dataframe\">\n",
       "  <thead>\n",
       "    <tr style=\"text-align: right;\">\n",
       "      <th></th>\n",
       "      <th>PY</th>\n",
       "      <th>abstract</th>\n",
       "      <th>firstauthor</th>\n",
       "      <th>firstauthor_instituttion</th>\n",
       "      <th>id</th>\n",
       "      <th>title</th>\n",
       "      <th>wc_category</th>\n",
       "    </tr>\n",
       "  </thead>\n",
       "  <tbody>\n",
       "    <tr>\n",
       "      <th>0</th>\n",
       "      <td>2017</td>\n",
       "      <td>Adaptation is necessary to cope with or take a...</td>\n",
       "      <td>Blanco, V</td>\n",
       "      <td>Univ Edinburgh, Inst Geog &amp; Lived Environm, Sc...</td>\n",
       "      <td>761059</td>\n",
       "      <td>The importance of socio-ecological system dyna...</td>\n",
       "      <td>[Environmental Sciences]</td>\n",
       "    </tr>\n",
       "    <tr>\n",
       "      <th>1</th>\n",
       "      <td>2013</td>\n",
       "      <td>Both climate extremes and agricultural disaste...</td>\n",
       "      <td>Tao, FL</td>\n",
       "      <td>Chinese Acad Sci, Inst Geog Sci &amp; Nat Resource...</td>\n",
       "      <td>365430</td>\n",
       "      <td>Changes in rice disasters across China in rece...</td>\n",
       "      <td>[Environmental Sciences; Environmental Studies]</td>\n",
       "    </tr>\n",
       "    <tr>\n",
       "      <th>2</th>\n",
       "      <td>2013</td>\n",
       "      <td>Hydrological models have been widely used to a...</td>\n",
       "      <td>Vansteenkiste, T</td>\n",
       "      <td>Katholieke Univ Leuven, Hydraul Div, BE-3001 L...</td>\n",
       "      <td>453489</td>\n",
       "      <td>Climate change impact on river flows and catch...</td>\n",
       "      <td>[Water Resources]</td>\n",
       "    </tr>\n",
       "    <tr>\n",
       "      <th>3</th>\n",
       "      <td>2009</td>\n",
       "      <td>Arguments about the appropriate discount rate ...</td>\n",
       "      <td>Atkinson, G</td>\n",
       "      <td>Univ London London Sch Econ &amp; Polit Sci, Dept ...</td>\n",
       "      <td>86654</td>\n",
       "      <td>Siblings, Not Triplets: Social Preferences for...</td>\n",
       "      <td>[Economics]</td>\n",
       "    </tr>\n",
       "    <tr>\n",
       "      <th>4</th>\n",
       "      <td>2018</td>\n",
       "      <td>The Regional Approaches to Climate Change for ...</td>\n",
       "      <td>Roesch-McNally, GE</td>\n",
       "      <td>USDA Northwest Climate Hub, 3200 SW Jefferson ...</td>\n",
       "      <td>1801649</td>\n",
       "      <td>U.S. Inland Pacific Northwest Wheat Farmers' P...</td>\n",
       "      <td>[Environmental Sciences]</td>\n",
       "    </tr>\n",
       "  </tbody>\n",
       "</table>\n",
       "</div>"
      ],
      "text/plain": [
       "     PY                                           abstract  \\\n",
       "0  2017  Adaptation is necessary to cope with or take a...   \n",
       "1  2013  Both climate extremes and agricultural disaste...   \n",
       "2  2013  Hydrological models have been widely used to a...   \n",
       "3  2009  Arguments about the appropriate discount rate ...   \n",
       "4  2018  The Regional Approaches to Climate Change for ...   \n",
       "\n",
       "          firstauthor                           firstauthor_instituttion  \\\n",
       "0           Blanco, V  Univ Edinburgh, Inst Geog & Lived Environm, Sc...   \n",
       "1             Tao, FL  Chinese Acad Sci, Inst Geog Sci & Nat Resource...   \n",
       "2    Vansteenkiste, T  Katholieke Univ Leuven, Hydraul Div, BE-3001 L...   \n",
       "3         Atkinson, G  Univ London London Sch Econ & Polit Sci, Dept ...   \n",
       "4  Roesch-McNally, GE  USDA Northwest Climate Hub, 3200 SW Jefferson ...   \n",
       "\n",
       "        id                                              title  \\\n",
       "0   761059  The importance of socio-ecological system dyna...   \n",
       "1   365430  Changes in rice disasters across China in rece...   \n",
       "2   453489  Climate change impact on river flows and catch...   \n",
       "3    86654  Siblings, Not Triplets: Social Preferences for...   \n",
       "4  1801649  U.S. Inland Pacific Northwest Wheat Farmers' P...   \n",
       "\n",
       "                                       wc_category  \n",
       "0                         [Environmental Sciences]  \n",
       "1  [Environmental Sciences; Environmental Studies]  \n",
       "2                                [Water Resources]  \n",
       "3                                      [Economics]  \n",
       "4                         [Environmental Sciences]  "
      ]
     },
     "execution_count": 9,
     "metadata": {},
     "output_type": "execute_result"
    }
   ],
   "source": [
    "dd = []\n",
    "for d in docs.iterator():\n",
    "    try:\n",
    "        dai = d.docauthinst_set.order_by('position').first()\n",
    "        dd.append({\n",
    "            \"id\":d.id,\n",
    "            \"title\":d.title,\n",
    "            \"abstract\":d.content,\n",
    "            \"wc_category\": d.wosarticle.wc,\n",
    "            \"PY\": d.PY,\n",
    "            \"firstauthor\": dai.AU,\n",
    "            \"firstauthor_instituttion\": dai.institution\n",
    "        })\n",
    "    except:\n",
    "        dd.append({\n",
    "            \"id\":d.id,\n",
    "            \"title\":d.title,\n",
    "            \"abstract\":d.content,\n",
    "            \"PY\":d.PY,\n",
    "        })\n",
    "\n",
    "    \n",
    "df = pd.DataFrame.from_dict(dd)\n",
    "df.head()"
   ]
  },
  {
   "cell_type": "code",
   "execution_count": 13,
   "metadata": {},
   "outputs": [
    {
     "data": {
      "text/html": [
       "<div>\n",
       "<style scoped>\n",
       "    .dataframe tbody tr th:only-of-type {\n",
       "        vertical-align: middle;\n",
       "    }\n",
       "\n",
       "    .dataframe tbody tr th {\n",
       "        vertical-align: top;\n",
       "    }\n",
       "\n",
       "    .dataframe thead th {\n",
       "        text-align: right;\n",
       "    }\n",
       "</style>\n",
       "<table border=\"1\" class=\"dataframe\">\n",
       "  <thead>\n",
       "    <tr style=\"text-align: right;\">\n",
       "      <th></th>\n",
       "      <th>PY</th>\n",
       "      <th>abstract</th>\n",
       "      <th>firstauthor</th>\n",
       "      <th>firstauthor_instituttion</th>\n",
       "      <th>id</th>\n",
       "      <th>title</th>\n",
       "      <th>wc_category</th>\n",
       "    </tr>\n",
       "  </thead>\n",
       "  <tbody>\n",
       "    <tr>\n",
       "      <th>0</th>\n",
       "      <td>2017</td>\n",
       "      <td>Adaptation is necessary to cope with or take a...</td>\n",
       "      <td>Blanco, V</td>\n",
       "      <td>Univ Edinburgh, Inst Geog &amp; Lived Environm, Sc...</td>\n",
       "      <td>761059</td>\n",
       "      <td>The importance of socio-ecological system dyna...</td>\n",
       "      <td>[Environmental Sciences]</td>\n",
       "    </tr>\n",
       "    <tr>\n",
       "      <th>1</th>\n",
       "      <td>2013</td>\n",
       "      <td>Both climate extremes and agricultural disaste...</td>\n",
       "      <td>Tao, FL</td>\n",
       "      <td>Chinese Acad Sci, Inst Geog Sci &amp; Nat Resource...</td>\n",
       "      <td>365430</td>\n",
       "      <td>Changes in rice disasters across China in rece...</td>\n",
       "      <td>[Environmental Sciences; Environmental Studies]</td>\n",
       "    </tr>\n",
       "    <tr>\n",
       "      <th>2</th>\n",
       "      <td>2013</td>\n",
       "      <td>Hydrological models have been widely used to a...</td>\n",
       "      <td>Vansteenkiste, T</td>\n",
       "      <td>Katholieke Univ Leuven, Hydraul Div, BE-3001 L...</td>\n",
       "      <td>453489</td>\n",
       "      <td>Climate change impact on river flows and catch...</td>\n",
       "      <td>[Water Resources]</td>\n",
       "    </tr>\n",
       "    <tr>\n",
       "      <th>3</th>\n",
       "      <td>2009</td>\n",
       "      <td>Arguments about the appropriate discount rate ...</td>\n",
       "      <td>Atkinson, G</td>\n",
       "      <td>Univ London London Sch Econ &amp; Polit Sci, Dept ...</td>\n",
       "      <td>86654</td>\n",
       "      <td>Siblings, Not Triplets: Social Preferences for...</td>\n",
       "      <td>[Economics]</td>\n",
       "    </tr>\n",
       "    <tr>\n",
       "      <th>4</th>\n",
       "      <td>2018</td>\n",
       "      <td>The Regional Approaches to Climate Change for ...</td>\n",
       "      <td>Roesch-McNally, GE</td>\n",
       "      <td>USDA Northwest Climate Hub, 3200 SW Jefferson ...</td>\n",
       "      <td>1801649</td>\n",
       "      <td>U.S. Inland Pacific Northwest Wheat Farmers' P...</td>\n",
       "      <td>[Environmental Sciences]</td>\n",
       "    </tr>\n",
       "  </tbody>\n",
       "</table>\n",
       "</div>"
      ],
      "text/plain": [
       "     PY                                           abstract  \\\n",
       "0  2017  Adaptation is necessary to cope with or take a...   \n",
       "1  2013  Both climate extremes and agricultural disaste...   \n",
       "2  2013  Hydrological models have been widely used to a...   \n",
       "3  2009  Arguments about the appropriate discount rate ...   \n",
       "4  2018  The Regional Approaches to Climate Change for ...   \n",
       "\n",
       "          firstauthor                           firstauthor_instituttion  \\\n",
       "0           Blanco, V  Univ Edinburgh, Inst Geog & Lived Environm, Sc...   \n",
       "1             Tao, FL  Chinese Acad Sci, Inst Geog Sci & Nat Resource...   \n",
       "2    Vansteenkiste, T  Katholieke Univ Leuven, Hydraul Div, BE-3001 L...   \n",
       "3         Atkinson, G  Univ London London Sch Econ & Polit Sci, Dept ...   \n",
       "4  Roesch-McNally, GE  USDA Northwest Climate Hub, 3200 SW Jefferson ...   \n",
       "\n",
       "        id                                              title  \\\n",
       "0   761059  The importance of socio-ecological system dyna...   \n",
       "1   365430  Changes in rice disasters across China in rece...   \n",
       "2   453489  Climate change impact on river flows and catch...   \n",
       "3    86654  Siblings, Not Triplets: Social Preferences for...   \n",
       "4  1801649  U.S. Inland Pacific Northwest Wheat Farmers' P...   \n",
       "\n",
       "                                       wc_category  \n",
       "0                         [Environmental Sciences]  \n",
       "1  [Environmental Sciences; Environmental Studies]  \n",
       "2                                [Water Resources]  \n",
       "3                                      [Economics]  \n",
       "4                         [Environmental Sciences]  "
      ]
     },
     "execution_count": 13,
     "metadata": {},
     "output_type": "execute_result"
    }
   ],
   "source": [
    "df.head()"
   ]
  },
  {
   "cell_type": "code",
   "execution_count": 12,
   "metadata": {},
   "outputs": [],
   "source": [
    "df.to_csv(\"doctables/docs.csv\", index=False)"
   ]
  },
  {
   "cell_type": "code",
   "execution_count": 11,
   "metadata": {},
   "outputs": [],
   "source": [
    "run_id=2674\n",
    "dts = list(DocTopic.objects.filter(run_id=run_id).values('doc_id','topic_id','score'))\n",
    "dtdf = pd.DataFrame.from_dict(dts)\n",
    "\n",
    "dtdf.to_csv(f\"doctables/doctopics_{run_id}.csv\", index=False)\n"
   ]
  },
  {
   "cell_type": "code",
   "execution_count": 6,
   "metadata": {},
   "outputs": [
    {
     "data": {
      "text/html": [
       "<div>\n",
       "<style scoped>\n",
       "    .dataframe tbody tr th:only-of-type {\n",
       "        vertical-align: middle;\n",
       "    }\n",
       "\n",
       "    .dataframe tbody tr th {\n",
       "        vertical-align: top;\n",
       "    }\n",
       "\n",
       "    .dataframe thead th {\n",
       "        text-align: right;\n",
       "    }\n",
       "</style>\n",
       "<table border=\"1\" class=\"dataframe\">\n",
       "  <thead>\n",
       "    <tr style=\"text-align: right;\">\n",
       "      <th></th>\n",
       "      <th>doc_id</th>\n",
       "      <th>score</th>\n",
       "      <th>topic_id</th>\n",
       "    </tr>\n",
       "  </thead>\n",
       "  <tbody>\n",
       "    <tr>\n",
       "      <th>0</th>\n",
       "      <td>137288</td>\n",
       "      <td>0.001688</td>\n",
       "      <td>200992</td>\n",
       "    </tr>\n",
       "    <tr>\n",
       "      <th>1</th>\n",
       "      <td>228555</td>\n",
       "      <td>0.001544</td>\n",
       "      <td>200992</td>\n",
       "    </tr>\n",
       "    <tr>\n",
       "      <th>2</th>\n",
       "      <td>696289</td>\n",
       "      <td>0.007532</td>\n",
       "      <td>200992</td>\n",
       "    </tr>\n",
       "    <tr>\n",
       "      <th>3</th>\n",
       "      <td>505387</td>\n",
       "      <td>0.013182</td>\n",
       "      <td>200992</td>\n",
       "    </tr>\n",
       "    <tr>\n",
       "      <th>4</th>\n",
       "      <td>1285504</td>\n",
       "      <td>0.042043</td>\n",
       "      <td>200992</td>\n",
       "    </tr>\n",
       "  </tbody>\n",
       "</table>\n",
       "</div>"
      ],
      "text/plain": [
       "    doc_id     score  topic_id\n",
       "0   137288  0.001688    200992\n",
       "1   228555  0.001544    200992\n",
       "2   696289  0.007532    200992\n",
       "3   505387  0.013182    200992\n",
       "4  1285504  0.042043    200992"
      ]
     },
     "execution_count": 6,
     "metadata": {},
     "output_type": "execute_result"
    }
   ],
   "source": [
    "dtdf.head()"
   ]
  }
 ],
 "metadata": {
  "kernelspec": {
   "display_name": "tmv",
   "language": "python",
   "name": "tmv"
  },
  "language_info": {
   "codemirror_mode": {
    "name": "ipython",
    "version": 3
   },
   "file_extension": ".py",
   "mimetype": "text/x-python",
   "name": "python",
   "nbconvert_exporter": "python",
   "pygments_lexer": "ipython3",
   "version": "3.6.7"
  },
  "varInspector": {
   "cols": {
    "lenName": 16,
    "lenType": 16,
    "lenVar": 40
   },
   "kernels_config": {
    "python": {
     "delete_cmd_postfix": "",
     "delete_cmd_prefix": "del ",
     "library": "var_list.py",
     "varRefreshCmd": "print(var_dic_list())"
    },
    "r": {
     "delete_cmd_postfix": ") ",
     "delete_cmd_prefix": "rm(",
     "library": "var_list.r",
     "varRefreshCmd": "cat(var_dic_list()) "
    }
   },
   "types_to_exclude": [
    "module",
    "function",
    "builtin_function_or_method",
    "instance",
    "_Feature"
   ],
   "window_display": false
  }
 },
 "nbformat": 4,
 "nbformat_minor": 2
}
