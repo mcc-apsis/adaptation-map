{
 "cells": [
  {
   "cell_type": "code",
   "execution_count": 10,
   "metadata": {},
   "outputs": [],
   "source": [
    "import django\n",
    "import sys, os\n",
    "import re\n",
    "\n",
    "sys.path.append('/home/galm/software/django/tmv/BasicBrowser/')\n",
    "os.environ.setdefault(\"DJANGO_SETTINGS_MODULE\", \"BasicBrowser.settings\")\n",
    "django.setup()\n",
    "\n",
    "from scoping.models import *"
   ]
  },
  {
   "cell_type": "code",
   "execution_count": 3,
   "metadata": {},
   "outputs": [],
   "source": [
    "q = Query.objects.get(pk=7949)\n",
    "\n"
   ]
  },
  {
   "cell_type": "code",
   "execution_count": 20,
   "metadata": {},
   "outputs": [],
   "source": [
    "fq, created = Query.objects.get_or_create(\n",
    "    title=\"lesnikowski_1\",\n",
    "    text=\"Manually created\",\n",
    "    creator=User.objects.get(last_name=\"Sietsma\"),\n",
    "    project=q.project\n",
    ")"
   ]
  },
  {
   "cell_type": "code",
   "execution_count": 16,
   "metadata": {},
   "outputs": [],
   "source": [
    "s = 'adapt*, risk*, protect*, vulnerab*, emergenc*, security, resilien*, recover*, prevent*, hazard*, prepar*, disaster*, impact*'\n",
    "pat = \"|\".join(s.replace('*','\\w*').split(', '))\n"
   ]
  },
  {
   "cell_type": "code",
   "execution_count": 18,
   "metadata": {},
   "outputs": [
    {
     "data": {
      "text/plain": [
       "165286"
      ]
     },
     "execution_count": 18,
     "metadata": {},
     "output_type": "execute_result"
    }
   ],
   "source": [
    "dids = set([])\n",
    "for field in [\"content\",\"wosarticle__de\",\"title\"]:\n",
    "    filtered_docs = q.doc_set.filter(content__iregex=pat)\n",
    "    dids = dids | set(filtered_docs.values_list('pk',flat=True))\n",
    "len(dids)"
   ]
  },
  {
   "cell_type": "code",
   "execution_count": 21,
   "metadata": {},
   "outputs": [],
   "source": [
    "Through = Doc.query.through\n",
    "dqs = [Through(doc_id=d,query=fq) for d in dids]\n",
    "Through.objects.bulk_create(dqs)\n",
    "\n",
    "fq.r_count = fq.doc_set.count()\n",
    "fq.save()"
   ]
  },
  {
   "cell_type": "code",
   "execution_count": null,
   "metadata": {},
   "outputs": [],
   "source": []
  },
  {
   "cell_type": "code",
   "execution_count": 22,
   "metadata": {},
   "outputs": [],
   "source": [
    "fq, created = Query.objects.get_or_create(\n",
    "    title=\"lesnikowski_2\",\n",
    "    text=\"Manually created\",\n",
    "    creator=User.objects.get(last_name=\"Sietsma\"),\n",
    "    project=q.project\n",
    ")"
   ]
  },
  {
   "cell_type": "code",
   "execution_count": 23,
   "metadata": {},
   "outputs": [],
   "source": [
    "s = 'adapt*, resilien*, vulnerab*'\n",
    "pat = \"|\".join(s.replace('*','\\w*').split(', '))"
   ]
  },
  {
   "cell_type": "code",
   "execution_count": 24,
   "metadata": {},
   "outputs": [
    {
     "data": {
      "text/plain": [
       "46023"
      ]
     },
     "execution_count": 24,
     "metadata": {},
     "output_type": "execute_result"
    }
   ],
   "source": [
    "dids = set([])\n",
    "for field in [\"content\",\"wosarticle__de\",\"title\"]:\n",
    "    filtered_docs = q.doc_set.filter(content__iregex=pat)\n",
    "    dids = dids | set(filtered_docs.values_list('pk',flat=True))\n",
    "len(dids)"
   ]
  },
  {
   "cell_type": "code",
   "execution_count": 25,
   "metadata": {},
   "outputs": [],
   "source": [
    "Through = Doc.query.through\n",
    "dqs = [Through(doc_id=d,query=fq) for d in dids]\n",
    "Through.objects.bulk_create(dqs)\n",
    "\n",
    "fq.r_count = fq.doc_set.count()\n",
    "fq.save()"
   ]
  },
  {
   "cell_type": "code",
   "execution_count": null,
   "metadata": {},
   "outputs": [],
   "source": []
  },
  {
   "cell_type": "code",
   "execution_count": 27,
   "metadata": {},
   "outputs": [
    {
     "data": {
      "text/plain": [
       "187928"
      ]
     },
     "execution_count": 27,
     "metadata": {},
     "output_type": "execute_result"
    }
   ],
   "source": [
    "s = 'adapt*, risk*, protect*, vulnerab*, emergenc*, security, resilien*, recover*, prevent*, hazard*, prepar*, disaster*, impact*, coping, cope, catastroph*, threat, agriculture*, water manag*, drought*, flood*'\n",
    "pat = \"|\".join(s.replace('*','\\w*').split(', '))\n",
    "dids = set([])\n",
    "for field in [\"content\",\"wosarticle__de\",\"title\"]:\n",
    "    filtered_docs = q.doc_set.filter(content__iregex=pat)\n",
    "    dids = dids | set(filtered_docs.values_list('pk',flat=True))\n",
    "len(dids)"
   ]
  },
  {
   "cell_type": "code",
   "execution_count": 28,
   "metadata": {},
   "outputs": [],
   "source": [
    "fq, created = Query.objects.get_or_create(\n",
    "    title=\"lesnikowski_3\",\n",
    "    text=\"Manually created\",\n",
    "    creator=User.objects.get(last_name=\"Sietsma\"),\n",
    "    project=q.project\n",
    ")\n"
   ]
  },
  {
   "cell_type": "code",
   "execution_count": 29,
   "metadata": {},
   "outputs": [],
   "source": [
    "Through = Doc.query.through\n",
    "dqs = [Through(doc_id=d,query=fq) for d in dids]\n",
    "Through.objects.bulk_create(dqs)\n",
    "\n",
    "fq.r_count = fq.doc_set.count()\n",
    "fq.save()"
   ]
  },
  {
   "cell_type": "code",
   "execution_count": null,
   "metadata": {},
   "outputs": [],
   "source": []
  },
  {
   "cell_type": "code",
   "execution_count": 30,
   "metadata": {},
   "outputs": [
    {
     "data": {
      "text/plain": [
       "173416"
      ]
     },
     "execution_count": 30,
     "metadata": {},
     "output_type": "execute_result"
    }
   ],
   "source": [
    "s = 'adapt*, risk*, protect*, vulnerab*, emergenc*, security, resilien*, recover*, prevent*, hazard*, prepar*, disaster*, impact*, coping, cope, catastroph*, threat'\n",
    "pat = \"|\".join(s.replace('*','\\w*').split(', '))\n",
    "dids = set([])\n",
    "for field in [\"content\",\"wosarticle__de\",\"title\"]:\n",
    "    filtered_docs = q.doc_set.filter(content__iregex=pat)\n",
    "    dids = dids | set(filtered_docs.values_list('pk',flat=True))\n",
    "len(dids)\n"
   ]
  },
  {
   "cell_type": "code",
   "execution_count": 31,
   "metadata": {},
   "outputs": [],
   "source": [
    "fq, created = Query.objects.get_or_create(\n",
    "    title=\"lesnikowski_4\",\n",
    "    text=\"Manually created\",\n",
    "    creator=User.objects.get(last_name=\"Sietsma\"),\n",
    "    project=q.project\n",
    ")\n"
   ]
  },
  {
   "cell_type": "code",
   "execution_count": 32,
   "metadata": {},
   "outputs": [],
   "source": [
    "Through = Doc.query.through\n",
    "dqs = [Through(doc_id=d,query=fq) for d in dids]\n",
    "Through.objects.bulk_create(dqs)\n",
    "\n",
    "fq.r_count = fq.doc_set.count()\n",
    "fq.save()"
   ]
  },
  {
   "cell_type": "code",
   "execution_count": null,
   "metadata": {},
   "outputs": [],
   "source": []
  }
 ],
 "metadata": {
  "kernelspec": {
   "display_name": "tmv",
   "language": "python",
   "name": "tmv"
  },
  "language_info": {
   "codemirror_mode": {
    "name": "ipython",
    "version": 3
   },
   "file_extension": ".py",
   "mimetype": "text/x-python",
   "name": "python",
   "nbconvert_exporter": "python",
   "pygments_lexer": "ipython3",
   "version": "3.6.7"
  },
  "varInspector": {
   "cols": {
    "lenName": 16,
    "lenType": 16,
    "lenVar": 40
   },
   "kernels_config": {
    "python": {
     "delete_cmd_postfix": "",
     "delete_cmd_prefix": "del ",
     "library": "var_list.py",
     "varRefreshCmd": "print(var_dic_list())"
    },
    "r": {
     "delete_cmd_postfix": ") ",
     "delete_cmd_prefix": "rm(",
     "library": "var_list.r",
     "varRefreshCmd": "cat(var_dic_list()) "
    }
   },
   "types_to_exclude": [
    "module",
    "function",
    "builtin_function_or_method",
    "instance",
    "_Feature"
   ],
   "window_display": false
  }
 },
 "nbformat": 4,
 "nbformat_minor": 2
}
