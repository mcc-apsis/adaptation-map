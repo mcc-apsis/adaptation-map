{
 "cells": [
  {
   "cell_type": "code",
   "execution_count": 1,
   "metadata": {},
   "outputs": [],
   "source": [
    "import matplotlib.pyplot as plt\n",
    "import numpy as np\n",
    "import pandas as pd\n",
    "import sys, os, django\n",
    "import math\n",
    "\n",
    "\n",
    "from sklearn.manifold import TSNE\n",
    "from sklearn.svm import SVC, OneClassSVM\n",
    "from sklearn.metrics import average_precision_score\n",
    "from sklearn.metrics import precision_recall_curve\n",
    "from sklearn.metrics import precision_score, recall_score\n",
    "\n",
    "from sklearn.decomposition import NMF\n",
    "from sklearn.naive_bayes import MultinomialNB\n",
    "from sklearn.linear_model import SGDClassifier\n",
    "\n",
    "from sklearn.feature_extraction.text import CountVectorizer, TfidfVectorizer\n",
    "from sklearn.model_selection import KFold\n",
    "from sklearn.neural_network import MLPClassifier\n",
    "from scipy.sparse import hstack\n",
    "\n",
    "sys.path.append('/home/galm/software/django/tmv/BasicBrowser/')\n",
    "os.environ.setdefault(\"DJANGO_SETTINGS_MODULE\", \"BasicBrowser.settings\")\n",
    "django.setup()\n",
    "\n",
    "from django.db.models import Q, F, Sum, Count, FloatField, Case, When, Value, Max\n",
    "from sklearn.manifold import TSNE\n",
    "from scoping.models import *\n",
    "from scoping.views import *\n",
    "\n",
    "import learning_utils\n",
    "import random\n",
    "\n",
    "\n",
    "double_figure = (7.2,7.2/8*5)\n",
    "plt.rc('font',size=7)\n",
    "plt.rc('axes',titlesize=7)\n",
    "plt.rc('axes',labelsize=7)\n",
    "plt.rc('xtick',labelsize=7)\n",
    "plt.rc('ytick',labelsize=7)\n",
    "plt.rc('legend',fontsize=7)\n",
    "plt.rc('figure',titlesize=7)"
   ]
  },
  {
   "cell_type": "code",
   "execution_count": 2,
   "metadata": {},
   "outputs": [
    {
     "name": "stdout",
     "output_type": "stream",
     "text": [
      "173377\n"
     ]
    },
    {
     "data": {
      "text/plain": [
       "173416"
      ]
     },
     "execution_count": 2,
     "metadata": {},
     "output_type": "execute_result"
    }
   ],
   "source": [
    "pid = 202\n",
    "qid = 7963\n",
    "q = Query.objects.get(pk=qid)\n",
    "p = Project.objects.get(pk=pid)\n",
    "\n",
    "print(q.doc_set.count())\n",
    "q.r_count"
   ]
  },
  {
   "cell_type": "code",
   "execution_count": 3,
   "metadata": {},
   "outputs": [
    {
     "name": "stdout",
     "output_type": "stream",
     "text": [
      "173377\n"
     ]
    },
    {
     "data": {
      "text/plain": [
       "1508"
      ]
     },
     "execution_count": 3,
     "metadata": {},
     "output_type": "execute_result"
    }
   ],
   "source": [
    "docs = Doc.objects.filter(query=q, content__iregex='\\w').values_list('pk', flat=True)\n",
    "\n",
    "print(docs.count())\n",
    "\n",
    "seen = set(DocOwnership.objects.filter(\n",
    "    query=q, \n",
    "    relevant__gt=0\n",
    ").values_list('doc__pk', flat=True))\n",
    "\n",
    "\n",
    "seen = seen & set(docs)\n",
    "\n",
    "seen_docs = Doc.objects.filter(pk__in=seen)\n",
    "seen_docs.count()"
   ]
  },
  {
   "cell_type": "code",
   "execution_count": 4,
   "metadata": {},
   "outputs": [
    {
     "name": "stdout",
     "output_type": "stream",
     "text": [
      "(171869, 7)\n"
     ]
    },
    {
     "data": {
      "text/html": [
       "<div>\n",
       "<style scoped>\n",
       "    .dataframe tbody tr th:only-of-type {\n",
       "        vertical-align: middle;\n",
       "    }\n",
       "\n",
       "    .dataframe tbody tr th {\n",
       "        vertical-align: top;\n",
       "    }\n",
       "\n",
       "    .dataframe thead th {\n",
       "        text-align: right;\n",
       "    }\n",
       "</style>\n",
       "<table border=\"1\" class=\"dataframe\">\n",
       "  <thead>\n",
       "    <tr style=\"text-align: right;\">\n",
       "      <th></th>\n",
       "      <th>id</th>\n",
       "      <th>content</th>\n",
       "      <th>title</th>\n",
       "      <th>wosarticle__de</th>\n",
       "      <th>wosarticle__wc</th>\n",
       "      <th>relevant</th>\n",
       "      <th>seen</th>\n",
       "    </tr>\n",
       "  </thead>\n",
       "  <tbody>\n",
       "    <tr>\n",
       "      <th>0</th>\n",
       "      <td>1</td>\n",
       "      <td>For improved exploitation of the energy conten...</td>\n",
       "      <td>Proof of concept for a new energy-positive was...</td>\n",
       "      <td>advanced primary treatment; carbon footprint; ...</td>\n",
       "      <td>[Engineering, Environmental; Environmental Sci...</td>\n",
       "      <td>0</td>\n",
       "      <td>0</td>\n",
       "    </tr>\n",
       "    <tr>\n",
       "      <th>1</th>\n",
       "      <td>20</td>\n",
       "      <td>The responsiveness of South African fauna to c...</td>\n",
       "      <td>Vulnerability of South African animal taxa to ...</td>\n",
       "      <td>conservation; fragmentation; land-use; range c...</td>\n",
       "      <td>[Biodiversity Conservation; Ecology; Environme...</td>\n",
       "      <td>0</td>\n",
       "      <td>0</td>\n",
       "    </tr>\n",
       "    <tr>\n",
       "      <th>2</th>\n",
       "      <td>21</td>\n",
       "      <td>In the endeavour of avoiding presence of biode...</td>\n",
       "      <td>Mechanical-biological treatment: Performance a...</td>\n",
       "      <td>MBT; LCA; Waste composition; Biological treatm...</td>\n",
       "      <td>[Environmental Sciences]</td>\n",
       "      <td>0</td>\n",
       "      <td>0</td>\n",
       "    </tr>\n",
       "    <tr>\n",
       "      <th>3</th>\n",
       "      <td>23</td>\n",
       "      <td>This paper evaluates the impact of changing we...</td>\n",
       "      <td>Factors Affecting the Frequency and Severity o...</td>\n",
       "      <td>None</td>\n",
       "      <td>[Engineering, Civil; Transportation; Transport...</td>\n",
       "      <td>0</td>\n",
       "      <td>0</td>\n",
       "    </tr>\n",
       "    <tr>\n",
       "      <th>4</th>\n",
       "      <td>46</td>\n",
       "      <td>Glaciers store water over a range of temporal ...</td>\n",
       "      <td>A review of methods for estimating the contrib...</td>\n",
       "      <td>climate change; glacier meltwater; hydrologica...</td>\n",
       "      <td>[Geography, Physical; Geosciences, Multidiscip...</td>\n",
       "      <td>0</td>\n",
       "      <td>0</td>\n",
       "    </tr>\n",
       "  </tbody>\n",
       "</table>\n",
       "</div>"
      ],
      "text/plain": [
       "   id                                            content  \\\n",
       "0   1  For improved exploitation of the energy conten...   \n",
       "1  20  The responsiveness of South African fauna to c...   \n",
       "2  21  In the endeavour of avoiding presence of biode...   \n",
       "3  23  This paper evaluates the impact of changing we...   \n",
       "4  46  Glaciers store water over a range of temporal ...   \n",
       "\n",
       "                                               title  \\\n",
       "0  Proof of concept for a new energy-positive was...   \n",
       "1  Vulnerability of South African animal taxa to ...   \n",
       "2  Mechanical-biological treatment: Performance a...   \n",
       "3  Factors Affecting the Frequency and Severity o...   \n",
       "4  A review of methods for estimating the contrib...   \n",
       "\n",
       "                                      wosarticle__de  \\\n",
       "0  advanced primary treatment; carbon footprint; ...   \n",
       "1  conservation; fragmentation; land-use; range c...   \n",
       "2  MBT; LCA; Waste composition; Biological treatm...   \n",
       "3                                               None   \n",
       "4  climate change; glacier meltwater; hydrologica...   \n",
       "\n",
       "                                      wosarticle__wc  relevant  seen  \n",
       "0  [Engineering, Environmental; Environmental Sci...         0     0  \n",
       "1  [Biodiversity Conservation; Ecology; Environme...         0     0  \n",
       "2                           [Environmental Sciences]         0     0  \n",
       "3  [Engineering, Civil; Transportation; Transport...         0     0  \n",
       "4  [Geography, Physical; Geosciences, Multidiscip...         0     0  "
      ]
     },
     "execution_count": 4,
     "metadata": {},
     "output_type": "execute_result"
    }
   ],
   "source": [
    "unseen_docs = docs.exclude(pk__in=seen).distinct('id')\n",
    "\n",
    "unseen_docs.count()\n",
    "\n",
    "columns = [\n",
    "    'id',\n",
    "    'content',\n",
    "    'title',\n",
    "    'wosarticle__de',\n",
    "    'wosarticle__wc'\n",
    "]\n",
    "\n",
    "unseen_df = pd.DataFrame.from_dict(list(unseen_docs.values(*columns)))\n",
    "unseen_df = unseen_df[columns]\n",
    "unseen_df['relevant'] = 0\n",
    "unseen_df['seen'] = 0\n",
    "\n",
    "print(unseen_df.shape)\n",
    "unseen_df.head()"
   ]
  },
  {
   "cell_type": "code",
   "execution_count": 8,
   "metadata": {},
   "outputs": [
    {
     "name": "stdout",
     "output_type": "stream",
     "text": [
      "(1349, 12)\n"
     ]
    },
    {
     "data": {
      "text/html": [
       "<div>\n",
       "<style scoped>\n",
       "    .dataframe tbody tr th:only-of-type {\n",
       "        vertical-align: middle;\n",
       "    }\n",
       "\n",
       "    .dataframe tbody tr th {\n",
       "        vertical-align: top;\n",
       "    }\n",
       "\n",
       "    .dataframe thead th {\n",
       "        text-align: right;\n",
       "    }\n",
       "</style>\n",
       "<table border=\"1\" class=\"dataframe\">\n",
       "  <thead>\n",
       "    <tr style=\"text-align: right;\">\n",
       "      <th></th>\n",
       "      <th>id</th>\n",
       "      <th>content</th>\n",
       "      <th>title</th>\n",
       "      <th>wosarticle__de</th>\n",
       "      <th>wosarticle__wc</th>\n",
       "      <th>relevant</th>\n",
       "      <th>Indigenous involvement</th>\n",
       "      <th>Community participation</th>\n",
       "      <th>Risk assessment</th>\n",
       "      <th>Policy/proposed measures</th>\n",
       "      <th>Concrete adaptation evaluation</th>\n",
       "      <th>seen</th>\n",
       "    </tr>\n",
       "  </thead>\n",
       "  <tbody>\n",
       "    <tr>\n",
       "      <th>0</th>\n",
       "      <td>75</td>\n",
       "      <td>This article applies a systems engineering app...</td>\n",
       "      <td>Requirements and Functional Analysis of a Mult...</td>\n",
       "      <td>hazard; vulnerability; multi-hazard; disaster ...</td>\n",
       "      <td>[Biodiversity Conservation; Environmental Scie...</td>\n",
       "      <td>1</td>\n",
       "      <td>0</td>\n",
       "      <td>0</td>\n",
       "      <td>0</td>\n",
       "      <td>0</td>\n",
       "      <td>0</td>\n",
       "      <td>1</td>\n",
       "    </tr>\n",
       "    <tr>\n",
       "      <th>1</th>\n",
       "      <td>5325</td>\n",
       "      <td>Increasing globalization has promoted the spre...</td>\n",
       "      <td>Historical environmental change in Africa driv...</td>\n",
       "      <td>approximate Bayesian computation; arbovirus; d...</td>\n",
       "      <td>[Biochemistry &amp; Molecular Biology; Ecology; Ev...</td>\n",
       "      <td>0</td>\n",
       "      <td>0</td>\n",
       "      <td>0</td>\n",
       "      <td>0</td>\n",
       "      <td>0</td>\n",
       "      <td>0</td>\n",
       "      <td>1</td>\n",
       "    </tr>\n",
       "    <tr>\n",
       "      <th>2</th>\n",
       "      <td>5465</td>\n",
       "      <td>The merits of daily and monthly downscaling mo...</td>\n",
       "      <td>On the choice of the temporal aggregation leve...</td>\n",
       "      <td>None</td>\n",
       "      <td>[Meteorology &amp; Atmospheric Sciences]</td>\n",
       "      <td>1</td>\n",
       "      <td>0</td>\n",
       "      <td>0</td>\n",
       "      <td>0</td>\n",
       "      <td>0</td>\n",
       "      <td>0</td>\n",
       "      <td>1</td>\n",
       "    </tr>\n",
       "    <tr>\n",
       "      <th>3</th>\n",
       "      <td>9744</td>\n",
       "      <td>Within the commitment of the International Mar...</td>\n",
       "      <td>EEDI analysis of Ro-Pax and passenger ships in...</td>\n",
       "      <td>None</td>\n",
       "      <td>[Transportation]</td>\n",
       "      <td>0</td>\n",
       "      <td>0</td>\n",
       "      <td>0</td>\n",
       "      <td>0</td>\n",
       "      <td>0</td>\n",
       "      <td>0</td>\n",
       "      <td>1</td>\n",
       "    </tr>\n",
       "    <tr>\n",
       "      <th>4</th>\n",
       "      <td>11017</td>\n",
       "      <td>India is considerably vulnerable in the events...</td>\n",
       "      <td>Local perceptions of and responses to climate ...</td>\n",
       "      <td>Climate change; Community perceptions; Vulnera...</td>\n",
       "      <td>[Environmental Sciences; Environmental Studies]</td>\n",
       "      <td>1</td>\n",
       "      <td>0</td>\n",
       "      <td>0</td>\n",
       "      <td>0</td>\n",
       "      <td>0</td>\n",
       "      <td>1</td>\n",
       "      <td>1</td>\n",
       "    </tr>\n",
       "  </tbody>\n",
       "</table>\n",
       "</div>"
      ],
      "text/plain": [
       "      id                                            content  \\\n",
       "0     75  This article applies a systems engineering app...   \n",
       "1   5325  Increasing globalization has promoted the spre...   \n",
       "2   5465  The merits of daily and monthly downscaling mo...   \n",
       "3   9744  Within the commitment of the International Mar...   \n",
       "4  11017  India is considerably vulnerable in the events...   \n",
       "\n",
       "                                               title  \\\n",
       "0  Requirements and Functional Analysis of a Mult...   \n",
       "1  Historical environmental change in Africa driv...   \n",
       "2  On the choice of the temporal aggregation leve...   \n",
       "3  EEDI analysis of Ro-Pax and passenger ships in...   \n",
       "4  Local perceptions of and responses to climate ...   \n",
       "\n",
       "                                      wosarticle__de  \\\n",
       "0  hazard; vulnerability; multi-hazard; disaster ...   \n",
       "1  approximate Bayesian computation; arbovirus; d...   \n",
       "2                                               None   \n",
       "3                                               None   \n",
       "4  Climate change; Community perceptions; Vulnera...   \n",
       "\n",
       "                                      wosarticle__wc  relevant  \\\n",
       "0  [Biodiversity Conservation; Environmental Scie...         1   \n",
       "1  [Biochemistry & Molecular Biology; Ecology; Ev...         0   \n",
       "2               [Meteorology & Atmospheric Sciences]         1   \n",
       "3                                   [Transportation]         0   \n",
       "4    [Environmental Sciences; Environmental Studies]         1   \n",
       "\n",
       "   Indigenous involvement  Community participation  Risk assessment  \\\n",
       "0                       0                        0                0   \n",
       "1                       0                        0                0   \n",
       "2                       0                        0                0   \n",
       "3                       0                        0                0   \n",
       "4                       0                        0                0   \n",
       "\n",
       "   Policy/proposed measures  Concrete adaptation evaluation  seen  \n",
       "0                         0                               0     1  \n",
       "1                         0                               0     1  \n",
       "2                         0                               0     1  \n",
       "3                         0                               0     1  \n",
       "4                         0                               1     1  "
      ]
     },
     "execution_count": 8,
     "metadata": {},
     "output_type": "execute_result"
    }
   ],
   "source": [
    "rated = list(seen_docs.values(*columns))\n",
    "r_docs = []\n",
    "for r in rated:\n",
    "    d = Doc.objects.get(pk=r['id'])\n",
    "\n",
    "    dos = DocOwnership.objects.filter(\n",
    "        query__project=p,doc=d,relevant__gt=0,\n",
    "    ).values_list('relevant',flat=True)\n",
    "    if not dos.exists():\n",
    "        dos = DocOwnership.objects.filter(\n",
    "            project=p,doc=d,relevant__gt=0,\n",
    "        ).values_list('relevant',flat=True)            \n",
    "    if len(set(dos))==1: # If there is only one value (all ratings agree)\n",
    "        if dos[0] == 1:\n",
    "            r['relevant'] = 1\n",
    "        elif dos[0] == 2 or dos[0] == 4:\n",
    "            r['relevant'] = 0\n",
    "        else:\n",
    "            continue\n",
    "            \n",
    "        for c in Category.objects.filter(project=p):\n",
    "            if DocCat.objects.filter(doc=d,category=c).exists():\n",
    "                r[c.name]=1\n",
    "            else:\n",
    "                r[c.name]=0\n",
    "        r_docs.append(r)\n",
    "    \n",
    "cat_cols = [c.name for c in Category.objects.filter(project=p)]\n",
    "        \n",
    "seen_df = pd.DataFrame.from_dict(r_docs)\n",
    "seen_df = seen_df[columns + [\"relevant\"] + cat_cols]\n",
    "seen_df['seen'] = 1\n",
    "print(seen_df.shape)\n",
    "seen_df.head()"
   ]
  },
  {
   "cell_type": "code",
   "execution_count": null,
   "metadata": {},
   "outputs": [],
   "source": []
  },
  {
   "cell_type": "code",
   "execution_count": 11,
   "metadata": {},
   "outputs": [
    {
     "data": {
      "text/html": [
       "<div>\n",
       "<style scoped>\n",
       "    .dataframe tbody tr th:only-of-type {\n",
       "        vertical-align: middle;\n",
       "    }\n",
       "\n",
       "    .dataframe tbody tr th {\n",
       "        vertical-align: top;\n",
       "    }\n",
       "\n",
       "    .dataframe thead th {\n",
       "        text-align: right;\n",
       "    }\n",
       "</style>\n",
       "<table border=\"1\" class=\"dataframe\">\n",
       "  <thead>\n",
       "    <tr style=\"text-align: right;\">\n",
       "      <th></th>\n",
       "      <th>Community participation</th>\n",
       "      <th>Concrete adaptation evaluation</th>\n",
       "      <th>Indigenous involvement</th>\n",
       "      <th>Policy/proposed measures</th>\n",
       "      <th>Risk assessment</th>\n",
       "      <th>content</th>\n",
       "      <th>id</th>\n",
       "      <th>relevant</th>\n",
       "      <th>seen</th>\n",
       "      <th>title</th>\n",
       "      <th>wosarticle__de</th>\n",
       "      <th>wosarticle__wc</th>\n",
       "    </tr>\n",
       "  </thead>\n",
       "  <tbody>\n",
       "    <tr>\n",
       "      <th>0</th>\n",
       "      <td>0.0</td>\n",
       "      <td>0.0</td>\n",
       "      <td>0.0</td>\n",
       "      <td>0.0</td>\n",
       "      <td>0.0</td>\n",
       "      <td>Over the coming decades, the projected land-us...</td>\n",
       "      <td>1833117</td>\n",
       "      <td>0</td>\n",
       "      <td>0</td>\n",
       "      <td>Impacts of climate and land-use changes on flo...</td>\n",
       "      <td>climate change; land-use change; floods; Queen...</td>\n",
       "      <td>[Geosciences, Multidisciplinary; Meteorology &amp;...</td>\n",
       "    </tr>\n",
       "    <tr>\n",
       "      <th>1</th>\n",
       "      <td>0.0</td>\n",
       "      <td>0.0</td>\n",
       "      <td>0.0</td>\n",
       "      <td>0.0</td>\n",
       "      <td>0.0</td>\n",
       "      <td>CO2 emissions from international aviation are ...</td>\n",
       "      <td>408932</td>\n",
       "      <td>0</td>\n",
       "      <td>0</td>\n",
       "      <td>Carbon dioxide emissions from international av...</td>\n",
       "      <td>CO2 emissions; long-term scenarios; internatio...</td>\n",
       "      <td>[Transportation]</td>\n",
       "    </tr>\n",
       "    <tr>\n",
       "      <th>2</th>\n",
       "      <td>0.0</td>\n",
       "      <td>0.0</td>\n",
       "      <td>0.0</td>\n",
       "      <td>0.0</td>\n",
       "      <td>0.0</td>\n",
       "      <td>The 'Flexible Plug and Play Low Carbon Network...</td>\n",
       "      <td>1793283</td>\n",
       "      <td>0</td>\n",
       "      <td>0</td>\n",
       "      <td>The Design, Manufacture and Operation of a 33k...</td>\n",
       "      <td>0</td>\n",
       "      <td>[ENGINEERING, ELECTRICAL &amp; ELECTRONIC]</td>\n",
       "    </tr>\n",
       "    <tr>\n",
       "      <th>3</th>\n",
       "      <td>0.0</td>\n",
       "      <td>0.0</td>\n",
       "      <td>0.0</td>\n",
       "      <td>0.0</td>\n",
       "      <td>0.0</td>\n",
       "      <td>The objective of this study is to determine th...</td>\n",
       "      <td>820379</td>\n",
       "      <td>0</td>\n",
       "      <td>0</td>\n",
       "      <td>Simulating the effects of climate change and a...</td>\n",
       "      <td>Wind power; Climate change; Afforestation; Reg...</td>\n",
       "      <td>[Green &amp; Sustainable Science &amp; Technology; Ene...</td>\n",
       "    </tr>\n",
       "    <tr>\n",
       "      <th>4</th>\n",
       "      <td>0.0</td>\n",
       "      <td>0.0</td>\n",
       "      <td>0.0</td>\n",
       "      <td>0.0</td>\n",
       "      <td>0.0</td>\n",
       "      <td>In broiler houses, ventilation removes moistur...</td>\n",
       "      <td>518683</td>\n",
       "      <td>0</td>\n",
       "      <td>0</td>\n",
       "      <td>Field study on effects of a heat exchanger on ...</td>\n",
       "      <td>broiler performance; CO(2) emission; energy us...</td>\n",
       "      <td>[Agriculture, Dairy &amp; Animal Science]</td>\n",
       "    </tr>\n",
       "  </tbody>\n",
       "</table>\n",
       "</div>"
      ],
      "text/plain": [
       "   Community participation  Concrete adaptation evaluation  \\\n",
       "0                      0.0                             0.0   \n",
       "1                      0.0                             0.0   \n",
       "2                      0.0                             0.0   \n",
       "3                      0.0                             0.0   \n",
       "4                      0.0                             0.0   \n",
       "\n",
       "   Indigenous involvement  Policy/proposed measures  Risk assessment  \\\n",
       "0                     0.0                       0.0              0.0   \n",
       "1                     0.0                       0.0              0.0   \n",
       "2                     0.0                       0.0              0.0   \n",
       "3                     0.0                       0.0              0.0   \n",
       "4                     0.0                       0.0              0.0   \n",
       "\n",
       "                                             content       id  relevant  seen  \\\n",
       "0  Over the coming decades, the projected land-us...  1833117         0     0   \n",
       "1  CO2 emissions from international aviation are ...   408932         0     0   \n",
       "2  The 'Flexible Plug and Play Low Carbon Network...  1793283         0     0   \n",
       "3  The objective of this study is to determine th...   820379         0     0   \n",
       "4  In broiler houses, ventilation removes moistur...   518683         0     0   \n",
       "\n",
       "                                               title  \\\n",
       "0  Impacts of climate and land-use changes on flo...   \n",
       "1  Carbon dioxide emissions from international av...   \n",
       "2  The Design, Manufacture and Operation of a 33k...   \n",
       "3  Simulating the effects of climate change and a...   \n",
       "4  Field study on effects of a heat exchanger on ...   \n",
       "\n",
       "                                      wosarticle__de  \\\n",
       "0  climate change; land-use change; floods; Queen...   \n",
       "1  CO2 emissions; long-term scenarios; internatio...   \n",
       "2                                                  0   \n",
       "3  Wind power; Climate change; Afforestation; Reg...   \n",
       "4  broiler performance; CO(2) emission; energy us...   \n",
       "\n",
       "                                      wosarticle__wc  \n",
       "0  [Geosciences, Multidisciplinary; Meteorology &...  \n",
       "1                                   [Transportation]  \n",
       "2             [ENGINEERING, ELECTRICAL & ELECTRONIC]  \n",
       "3  [Green & Sustainable Science & Technology; Ene...  \n",
       "4              [Agriculture, Dairy & Animal Science]  "
      ]
     },
     "execution_count": 11,
     "metadata": {},
     "output_type": "execute_result"
    }
   ],
   "source": [
    "df = pd.concat([seen_df,unseen_df],sort=True).sample(frac=1).reset_index(drop=True).fillna(0)\n",
    "y = df['relevant']\n",
    "df.head()"
   ]
  },
  {
   "cell_type": "code",
   "execution_count": 12,
   "metadata": {},
   "outputs": [
    {
     "name": "stdout",
     "output_type": "stream",
     "text": [
      "(13, 12)\n"
     ]
    },
    {
     "data": {
      "text/html": [
       "<div>\n",
       "<style scoped>\n",
       "    .dataframe tbody tr th:only-of-type {\n",
       "        vertical-align: middle;\n",
       "    }\n",
       "\n",
       "    .dataframe tbody tr th {\n",
       "        vertical-align: top;\n",
       "    }\n",
       "\n",
       "    .dataframe thead th {\n",
       "        text-align: right;\n",
       "    }\n",
       "</style>\n",
       "<table border=\"1\" class=\"dataframe\">\n",
       "  <thead>\n",
       "    <tr style=\"text-align: right;\">\n",
       "      <th></th>\n",
       "      <th>Community participation</th>\n",
       "      <th>Concrete adaptation evaluation</th>\n",
       "      <th>Indigenous involvement</th>\n",
       "      <th>Policy/proposed measures</th>\n",
       "      <th>Risk assessment</th>\n",
       "      <th>content</th>\n",
       "      <th>id</th>\n",
       "      <th>relevant</th>\n",
       "      <th>seen</th>\n",
       "      <th>title</th>\n",
       "      <th>wosarticle__de</th>\n",
       "      <th>wosarticle__wc</th>\n",
       "    </tr>\n",
       "  </thead>\n",
       "  <tbody>\n",
       "    <tr>\n",
       "      <th>44662</th>\n",
       "      <td>0.0</td>\n",
       "      <td>0.0</td>\n",
       "      <td>0.0</td>\n",
       "      <td>0.0</td>\n",
       "      <td>0.0</td>\n",
       "      <td>In the context of climate change, there is pot...</td>\n",
       "      <td>283674</td>\n",
       "      <td>0</td>\n",
       "      <td>0</td>\n",
       "      <td>Natural Disaster Occurrence and Average Global...</td>\n",
       "      <td>Climate change; emergency events database; lin...</td>\n",
       "      <td>[Geosciences, Multidisciplinary; Meteorology &amp;...</td>\n",
       "    </tr>\n",
       "    <tr>\n",
       "      <th>56017</th>\n",
       "      <td>0.0</td>\n",
       "      <td>0.0</td>\n",
       "      <td>0.0</td>\n",
       "      <td>0.0</td>\n",
       "      <td>0.0</td>\n",
       "      <td>In compliance with the EU Flood Directive to r...</td>\n",
       "      <td>1843600</td>\n",
       "      <td>0</td>\n",
       "      <td>0</td>\n",
       "      <td>Flood risk management in Flanders: from flood ...</td>\n",
       "      <td>0</td>\n",
       "      <td>[Engineering, Environmental; Engineering, Civi...</td>\n",
       "    </tr>\n",
       "    <tr>\n",
       "      <th>96871</th>\n",
       "      <td>0.0</td>\n",
       "      <td>0.0</td>\n",
       "      <td>0.0</td>\n",
       "      <td>0.0</td>\n",
       "      <td>0.0</td>\n",
       "      <td>In recent years, environmental issues such as ...</td>\n",
       "      <td>797537</td>\n",
       "      <td>0</td>\n",
       "      <td>0</td>\n",
       "      <td>Influence of Heat Collection Plate Structure o...</td>\n",
       "      <td>exhaust heat; heat recovery; continuous castin...</td>\n",
       "      <td>[Metallurgy &amp; Metallurgical Engineering]</td>\n",
       "    </tr>\n",
       "    <tr>\n",
       "      <th>108229</th>\n",
       "      <td>0.0</td>\n",
       "      <td>0.0</td>\n",
       "      <td>0.0</td>\n",
       "      <td>0.0</td>\n",
       "      <td>0.0</td>\n",
       "      <td>Global warming has contributed to a greater fr...</td>\n",
       "      <td>520517</td>\n",
       "      <td>0</td>\n",
       "      <td>0</td>\n",
       "      <td>CLIMATE CHANGE, AGRICULTURAL INSURANCE AND GOV...</td>\n",
       "      <td>climate change; drought; agricultural insuranc...</td>\n",
       "      <td>[Metallurgy &amp; Metallurgical Engineering]</td>\n",
       "    </tr>\n",
       "    <tr>\n",
       "      <th>116525</th>\n",
       "      <td>0.0</td>\n",
       "      <td>0.0</td>\n",
       "      <td>0.0</td>\n",
       "      <td>0.0</td>\n",
       "      <td>0.0</td>\n",
       "      <td>This paper presents a comprehensive and consis...</td>\n",
       "      <td>1816073</td>\n",
       "      <td>0</td>\n",
       "      <td>0</td>\n",
       "      <td>Incremental costs of carbon storage in forestr...</td>\n",
       "      <td>terrestrial carbon sinks; carbon storage costs...</td>\n",
       "      <td>[Environmental Sciences]</td>\n",
       "    </tr>\n",
       "  </tbody>\n",
       "</table>\n",
       "</div>"
      ],
      "text/plain": [
       "        Community participation  Concrete adaptation evaluation  \\\n",
       "44662                       0.0                             0.0   \n",
       "56017                       0.0                             0.0   \n",
       "96871                       0.0                             0.0   \n",
       "108229                      0.0                             0.0   \n",
       "116525                      0.0                             0.0   \n",
       "\n",
       "        Indigenous involvement  Policy/proposed measures  Risk assessment  \\\n",
       "44662                      0.0                       0.0              0.0   \n",
       "56017                      0.0                       0.0              0.0   \n",
       "96871                      0.0                       0.0              0.0   \n",
       "108229                     0.0                       0.0              0.0   \n",
       "116525                     0.0                       0.0              0.0   \n",
       "\n",
       "                                                  content       id  relevant  \\\n",
       "44662   In the context of climate change, there is pot...   283674         0   \n",
       "56017   In compliance with the EU Flood Directive to r...  1843600         0   \n",
       "96871   In recent years, environmental issues such as ...   797537         0   \n",
       "108229  Global warming has contributed to a greater fr...   520517         0   \n",
       "116525  This paper presents a comprehensive and consis...  1816073         0   \n",
       "\n",
       "        seen                                              title  \\\n",
       "44662      0  Natural Disaster Occurrence and Average Global...   \n",
       "56017      0  Flood risk management in Flanders: from flood ...   \n",
       "96871      0  Influence of Heat Collection Plate Structure o...   \n",
       "108229     0  CLIMATE CHANGE, AGRICULTURAL INSURANCE AND GOV...   \n",
       "116525     0  Incremental costs of carbon storage in forestr...   \n",
       "\n",
       "                                           wosarticle__de  \\\n",
       "44662   Climate change; emergency events database; lin...   \n",
       "56017                                                   0   \n",
       "96871   exhaust heat; heat recovery; continuous castin...   \n",
       "108229  climate change; drought; agricultural insuranc...   \n",
       "116525  terrestrial carbon sinks; carbon storage costs...   \n",
       "\n",
       "                                           wosarticle__wc  \n",
       "44662   [Geosciences, Multidisciplinary; Meteorology &...  \n",
       "56017   [Engineering, Environmental; Engineering, Civi...  \n",
       "96871            [Metallurgy & Metallurgical Engineering]  \n",
       "108229           [Metallurgy & Metallurgical Engineering]  \n",
       "116525                           [Environmental Sciences]  "
      ]
     },
     "execution_count": 12,
     "metadata": {},
     "output_type": "execute_result"
    }
   ],
   "source": [
    "duplicateRowsDF = df[df.duplicated(['title','content'])]\n",
    "print(duplicateRowsDF.shape)\n",
    "\n",
    "duplicateRowsDF.head()\n",
    "\n"
   ]
  },
  {
   "cell_type": "code",
   "execution_count": null,
   "metadata": {},
   "outputs": [],
   "source": []
  },
  {
   "cell_type": "code",
   "execution_count": 13,
   "metadata": {},
   "outputs": [
    {
     "name": "stdout",
     "output_type": "stream",
     "text": [
      "Int64Index([    66,     85,    134,    188,    236,    571,    635,    732,\n",
      "               892,   1023,\n",
      "            ...\n",
      "            172402, 172427, 172522, 172724, 172821, 172953, 172957, 172995,\n",
      "            173058, 173114],\n",
      "           dtype='int64', length=1349)\n",
      "Int64Index([159485,   5454,  59381,  24382, 101886,  74861, 101182, 102737,\n",
      "             19321,  21239,\n",
      "            ...\n",
      "            123914, 151632,  58510,  29799,  90797, 126366,  27943,  61315,\n",
      "            150280,  26818],\n",
      "           dtype='int64', length=1080)\n"
     ]
    }
   ],
   "source": [
    "seen_index = df[df['seen']==1].index\n",
    "unseen_index = df[df['seen']==0].index\n",
    "#pred_index = pd.Index(random.sample(list(unseen_index),5000))\n",
    "\n",
    "k = math.ceil(len(seen_index)*0.8)\n",
    "train_index = pd.Index(random.sample(list(seen_index),k))\n",
    "\n",
    "print(seen_index)\n",
    "print(train_index)\n",
    "\n",
    "#experiment_index = pd.Index(set(seen_index) | set(pred_index))\n",
    "\n",
    "test_index = pd.Index([x for x in seen_index if x not in train_index])\n"
   ]
  },
  {
   "cell_type": "code",
   "execution_count": 33,
   "metadata": {},
   "outputs": [
    {
     "data": {
      "text/plain": [
       "(0.0, 1087.16)"
      ]
     },
     "execution_count": 33,
     "metadata": {},
     "output_type": "execute_result"
    },
    {
     "data": {
      "image/png": "[encoded data removed]",
      "text/plain": [
       "<Figure size 750x500 with 1 Axes>"
      ]
     },
     "metadata": {},
     "output_type": "display_data"
    }
   ],
   "source": [
    "fig, ax = plt.subplots(dpi=125)\n",
    "n = seen_df.shape[0]\n",
    "for i, (name, group) in enumerate(seen_df.groupby('relevant')):\n",
    "    ax.bar(i, group.shape[0])\n",
    "    ax.text(i, group.shape[0]+n*0.02, f'{group.shape[0]/n:.0%}',ha=\"center\")\n",
    "    \n",
    "ax.set_xticks([0,1])\n",
    "ax.set_xticklabels([\"Not relevant\",\"Relevant\"])\n",
    "    \n",
    "ax.set_ylim(ymax=ax.get_ylim()[1]+n*0.04)"
   ]
  },
  {
   "cell_type": "code",
   "execution_count": 15,
   "metadata": {},
   "outputs": [
    {
     "name": "stderr",
     "output_type": "stream",
     "text": [
      "/home/galm/software/django/tmv/venv/lib/python3.6/site-packages/sklearn/feature_extraction/text.py:300: UserWarning: Your stop_words may be inconsistent with your preprocessing. Tokenizing the stop words generated tokens ['make'] not in stop_words.\n",
      "  'stop_words.' % sorted(inconsistent))\n"
     ]
    }
   ],
   "source": [
    "vec = TfidfVectorizer(\n",
    "    ngram_range=(1,2),\n",
    "    min_df=20, max_df=0.6, strip_accents='unicode', \n",
    "    max_features=10000,\n",
    "    use_idf=1,\n",
    "    smooth_idf=1, sublinear_tf=1,\n",
    "    stop_words=\"english\",tokenizer=learning_utils.tokenize\n",
    ")\n",
    "\n",
    "y = df['relevant']\n",
    "ab_X = vec.fit_transform(df['content'])"
   ]
  },
  {
   "cell_type": "code",
   "execution_count": 16,
   "metadata": {},
   "outputs": [
    {
     "data": {
      "image/png": "[encoded data removed]",
      "text/plain": [
       "<Figure size 576x360 with 1 Axes>"
      ]
     },
     "metadata": {},
     "output_type": "display_data"
    }
   ],
   "source": [
    "import importlib\n",
    "importlib.reload(learning_utils)\n",
    "\n",
    "clf = MultinomialNB(alpha=0.1)\n",
    "clf.fit(ab_X[train_index],y[train_index])\n",
    "\n",
    "fig, ax = plt.subplots(figsize=(8,5))\n",
    "learning_utils.plot_model_accuracy(clf,ab_X[test_index],y[test_index],ax,0.5)"
   ]
  },
  {
   "cell_type": "code",
   "execution_count": 17,
   "metadata": {
    "scrolled": true
   },
   "outputs": [],
   "source": [
    "from sklearn.model_selection import KFold\n",
    "\n",
    "model = {}\n",
    "model['p'] = []\n",
    "model['r'] = []\n",
    "model['e'] = []\n",
    "model['i'] = []\n",
    "\n",
    "kf = KFold(n_splits=5)\n",
    "\n",
    "for k_train, k_test in kf.split(seen_index):\n",
    "    k_train = seen_index[k_train]\n",
    "    k_test = seen_index[k_test]\n",
    "    clf = MultinomialNB(alpha=0.1)\n",
    "    clf.fit(ab_X[k_train],y[k_train])\n",
    "    predictions = clf.predict(ab_X[k_test])\n",
    "    model['e'].append(clf.score(ab_X[k_test],y[k_test]))\n",
    "    # Precision\n",
    "    model['p'].append(precision_score(predictions,y[k_test]))\n",
    "    # Recall\n",
    "    model['r'].append(recall_score(predictions,y[k_test]))\n",
    "    #print(k_train)\n",
    "    "
   ]
  },
  {
   "cell_type": "code",
   "execution_count": 18,
   "metadata": {},
   "outputs": [
    {
     "data": {
      "image/png": "[encoded data removed]",
      "text/plain": [
       "<Figure size 432x288 with 1 Axes>"
      ]
     },
     "metadata": {},
     "output_type": "display_data"
    }
   ],
   "source": [
    "fig, ax = plt.subplots()\n",
    "ax.plot(model['p'],label=\"Precision\")\n",
    "ax.plot(model['r'],label=\"Recall\")\n",
    "ax.plot(model['e'],label=\"Mean Accuracy\")\n",
    "\n",
    "plt.legend()\n",
    "\n",
    "plt.show()"
   ]
  },
  {
   "cell_type": "code",
   "execution_count": 19,
   "metadata": {},
   "outputs": [],
   "source": [
    "models = [\n",
    "    {\n",
    "        'title': 'SVM', \n",
    "        'model': SVC(kernel='linear',class_weight='balanced',probability=True)\n",
    "    },\n",
    "    {\n",
    "        'title':\"Neural Net\",\n",
    "        'model': MLPClassifier(\n",
    "            solver='lbfgs', \n",
    "            alpha=0.1,\n",
    "            hidden_layer_sizes=(10), \n",
    "            random_state=1\n",
    "        )\n",
    "    },\n",
    "    {\n",
    "        'title': 'Naive Bayes', \n",
    "        'model': MultinomialNB(alpha=0.1)     \n",
    "    }\n",
    "]\n",
    "\n",
    "for model in models:\n",
    "    model['p'] = []\n",
    "    model['r'] = []\n",
    "    model['e'] = []\n",
    "    model['i'] = []\n",
    "\n",
    "kf = KFold(n_splits=10)\n",
    "i=0\n",
    "for k_train, k_test in kf.split(seen_index):\n",
    "    k_train = seen_index[k_train]\n",
    "    k_test = seen_index[k_test]\n",
    "    i+=1\n",
    "    for model in models:\n",
    "        clf = model['model']\n",
    "        model['i'].append(i)\n",
    "        #clf = SVC(kernel='rbf',probability=True)\n",
    "        clf.fit(ab_X[k_train],y[k_train])\n",
    "        predictions = clf.predict(ab_X[k_test])\n",
    "        model['e'].append(clf.score(ab_X[k_test],y[k_test]))\n",
    "        # Precision\n",
    "        model['p'].append(precision_score(predictions,y[k_test]))\n",
    "        # Recall\n",
    "        model['r'].append(recall_score(predictions,y[k_test]))"
   ]
  },
  {
   "cell_type": "code",
   "execution_count": null,
   "metadata": {},
   "outputs": [],
   "source": []
  },
  {
   "cell_type": "code",
   "execution_count": 21,
   "metadata": {},
   "outputs": [
    {
     "data": {
      "image/png": "[encoded data removed]",
      "text/plain": [
       "<Figure size 900x562.5 with 3 Axes>"
      ]
     },
     "metadata": {},
     "output_type": "display_data"
    }
   ],
   "source": [
    "plt.rcParams['grid.linestyle'] = \"--\"\n",
    "fig, axs = plt.subplots(1,3,dpi=125,figsize=double_figure,sharey=True)\n",
    "for i, model in enumerate(models):\n",
    "    ax = axs[i]\n",
    "    ax.boxplot([model['p'],model['r'], model['e']])\n",
    "    \n",
    "    for i,s in enumerate(['p','r','e']):\n",
    "        py = model[s]\n",
    "        x = np.random.normal(i+1, 0.04, size=len(py))\n",
    "        ax.plot(x, py, 'r.', alpha=0.2)\n",
    "    \n",
    "    ax.set_xticklabels(['Precision', 'Recall','Accuracy'])\n",
    "    \n",
    "    ax.set_title(f'{model[\"title\"]} mean accuracy {np.mean(model[\"e\"]):.0%}')\n",
    "    ax.grid()\n",
    "    \n",
    "    \n",
    "plt.show()"
   ]
  },
  {
   "cell_type": "code",
   "execution_count": 28,
   "metadata": {},
   "outputs": [],
   "source": [
    "y = df['relevant']\n",
    "clf =  MLPClassifier(\n",
    "            solver='lbfgs', \n",
    "            alpha=0.1,\n",
    "            hidden_layer_sizes=(10), \n",
    "            random_state=1\n",
    "        )\n",
    "\n",
    "clf = SVC(kernel='linear',class_weight='balanced',probability=True)\n",
    "\n",
    "\n",
    "clf.fit(ab_X[seen_index],y[seen_index])\n",
    "\n",
    "y_pred = clf.predict_proba(ab_X[unseen_index])"
   ]
  },
  {
   "cell_type": "code",
   "execution_count": 29,
   "metadata": {},
   "outputs": [],
   "source": [
    "df['prediction'] = None\n",
    "df.loc[unseen_index,'prediction'] = y_pred[:,1]"
   ]
  },
  {
   "cell_type": "code",
   "execution_count": 31,
   "metadata": {},
   "outputs": [
    {
     "name": "stdout",
     "output_type": "stream",
     "text": [
      "44516\n",
      "171869\n"
     ]
    },
    {
     "data": {
      "image/png": "[encoded data removed]",
      "text/plain": [
       "<Figure size 750x500 with 1 Axes>"
      ]
     },
     "metadata": {},
     "output_type": "display_data"
    }
   ],
   "source": [
    "plt.close()\n",
    "\n",
    "fig, ax = plt.subplots(dpi=125)\n",
    "\n",
    "pdf = df.sort_values('prediction').reset_index(drop=True)\n",
    "ax.plot(pdf.index,pdf['prediction'])\n",
    "ax.axhline(0.5,linestyle=\"--\",color=\"grey\")\n",
    "\n",
    "print(pdf[pdf['prediction']>0.5].shape[0])\n",
    "print(pdf[pdf['prediction'].notna()].shape[0])\n",
    "\n",
    "plt.show()"
   ]
  },
  {
   "cell_type": "code",
   "execution_count": 35,
   "metadata": {},
   "outputs": [
    {
     "data": {
      "text/plain": [
       "<QuerySet []>"
      ]
     },
     "execution_count": 35,
     "metadata": {},
     "output_type": "execute_result"
    }
   ],
   "source": [
    "q, created = Query.objects.get_or_create(\n",
    "    title=\"predicted relevant\",\n",
    "    text=\"Manually created\",\n",
    "    creator=User.objects.get(last_name=\"Sietsma\"),\n",
    "    project=q.project\n",
    ")\n",
    "q.users.all()"
   ]
  },
  {
   "cell_type": "code",
   "execution_count": 37,
   "metadata": {},
   "outputs": [
    {
     "data": {
      "text/plain": [
       "44516"
      ]
     },
     "execution_count": 37,
     "metadata": {},
     "output_type": "execute_result"
    }
   ],
   "source": [
    "pr_ids = pdf[(pdf['prediction'] > 0.5)]['id']\n",
    "len(pr_ids)"
   ]
  },
  {
   "cell_type": "code",
   "execution_count": 38,
   "metadata": {},
   "outputs": [],
   "source": [
    "Through = Doc.query.through\n",
    "dqs = [Through(doc_id=d,query=q) for d in pr_ids]\n",
    "Through.objects.bulk_create(dqs)\n",
    "\n",
    "q.r_count = q.doc_set.count()\n",
    "q.save()"
   ]
  },
  {
   "cell_type": "code",
   "execution_count": 40,
   "metadata": {},
   "outputs": [],
   "source": [
    "pr_ids = pdf[(pdf['relevant'] ==1)]['id']\n",
    "len(pr_ids)\n",
    "\n",
    "dqs = [Through(doc_id=d,query=q) for d in pr_ids]\n",
    "Through.objects.bulk_create(dqs)\n",
    "\n",
    "q.r_count = q.doc_set.count()\n",
    "q.save()"
   ]
  },
  {
   "cell_type": "code",
   "execution_count": 43,
   "metadata": {},
   "outputs": [],
   "source": [
    "now=datetime.datetime.now()\n",
    "df[['id','prediction']].to_csv(f'doctables/predictions_{now}.csv',index=False)"
   ]
  },
  {
   "cell_type": "code",
   "execution_count": null,
   "metadata": {},
   "outputs": [],
   "source": []
  }
 ],
 "metadata": {
  "kernelspec": {
   "display_name": "tmv",
   "language": "python",
   "name": "tmv"
  },
  "language_info": {
   "codemirror_mode": {
    "name": "ipython",
    "version": 3
   },
   "file_extension": ".py",
   "mimetype": "text/x-python",
   "name": "python",
   "nbconvert_exporter": "python",
   "pygments_lexer": "ipython3",
   "version": "3.6.7"
  },
  "varInspector": {
   "cols": {
    "lenName": 16,
    "lenType": 16,
    "lenVar": 40
   },
   "kernels_config": {
    "python": {
     "delete_cmd_postfix": "",
     "delete_cmd_prefix": "del ",
     "library": "var_list.py",
     "varRefreshCmd": "print(var_dic_list())"
    },
    "r": {
     "delete_cmd_postfix": ") ",
     "delete_cmd_prefix": "rm(",
     "library": "var_list.r",
     "varRefreshCmd": "cat(var_dic_list()) "
    }
   },
   "types_to_exclude": [
    "module",
    "function",
    "builtin_function_or_method",
    "instance",
    "_Feature"
   ],
   "window_display": false
  }
 },
 "nbformat": 4,
 "nbformat_minor": 2
}
